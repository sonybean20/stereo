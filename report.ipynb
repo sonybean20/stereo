{
 "cells": [
  {
   "cell_type": "markdown",
   "metadata": {},
   "source": [
    "# Comparison of Full Grid Stereo with Window-based and Scanline Approaches"
   ]
  },
  {
   "cell_type": "markdown",
   "metadata": {},
   "source": [
    "## Team members and contributions\n",
    "\n",
    "- Soyeon Shin:\n",
    "\n",
    "- Umer Amjad:"
   ]
  },
  {
   "cell_type": "markdown",
   "metadata": {},
   "source": [
    "## Code Libraries\n",
    "(acknowledge all external code libraries \"essential\" for your project. You should explain the importance of each such library for your project. If these libraries are not installed with the default anaconda package, provide installation instructions/links or include the necessary files in extlibs subdirectory.)"
   ]
  },
  {
   "cell_type": "markdown",
   "metadata": {},
   "source": [
    "## Abstract\n",
    "two-three paragraph abstract outlining the high-level goal and discussing well-motivated methodology of the project"
   ]
  },
  {
   "cell_type": "markdown",
   "metadata": {},
   "source": [
    "## Window-based Stereo"
   ]
  },
  {
   "cell_type": "markdown",
   "metadata": {},
   "source": [
    "Description TODO"
   ]
  },
  {
   "cell_type": "code",
   "execution_count": 6,
   "metadata": {},
   "outputs": [
    {
     "ename": "OSError",
     "evalue": "cannot identify image file 'images/Bicycle1-imperfect/disp0.pfm'",
     "output_type": "error",
     "traceback": [
      "\u001b[1;31m---------------------------------------------------------------------------\u001b[0m",
      "\u001b[1;31mOSError\u001b[0m                                   Traceback (most recent call last)",
      "\u001b[1;32m<ipython-input-6-df9134177736>\u001b[0m in \u001b[0;36m<module>\u001b[1;34m\u001b[0m\n\u001b[0;32m     74\u001b[0m \u001b[0mim_left\u001b[0m \u001b[1;33m=\u001b[0m \u001b[0mimage\u001b[0m\u001b[1;33m.\u001b[0m\u001b[0mimread\u001b[0m\u001b[1;33m(\u001b[0m\u001b[1;34m\"images/Bicycle1-imperfect/im0.png\"\u001b[0m\u001b[1;33m)\u001b[0m\u001b[1;33m\u001b[0m\u001b[1;33m\u001b[0m\u001b[0m\n\u001b[0;32m     75\u001b[0m \u001b[0mim_right\u001b[0m \u001b[1;33m=\u001b[0m \u001b[0mimage\u001b[0m\u001b[1;33m.\u001b[0m\u001b[0mimread\u001b[0m\u001b[1;33m(\u001b[0m\u001b[1;34m\"images/Bicycle1-imperfect/im1.png\"\u001b[0m\u001b[1;33m)\u001b[0m\u001b[1;33m\u001b[0m\u001b[1;33m\u001b[0m\u001b[0m\n\u001b[1;32m---> 76\u001b[1;33m \u001b[0mim_gt\u001b[0m \u001b[1;33m=\u001b[0m \u001b[0mimage\u001b[0m\u001b[1;33m.\u001b[0m\u001b[0mimread\u001b[0m\u001b[1;33m(\u001b[0m\u001b[1;34m\"images/Bicycle1-imperfect/disp0.pfm\"\u001b[0m\u001b[1;33m)\u001b[0m\u001b[1;33m\u001b[0m\u001b[1;33m\u001b[0m\u001b[0m\n\u001b[0m\u001b[0;32m     77\u001b[0m \u001b[0md_min\u001b[0m \u001b[1;33m=\u001b[0m \u001b[0mnp\u001b[0m\u001b[1;33m.\u001b[0m\u001b[0mamin\u001b[0m\u001b[1;33m(\u001b[0m\u001b[0mim_gt\u001b[0m\u001b[1;33m[\u001b[0m\u001b[0mim_gt\u001b[0m \u001b[1;33m!=\u001b[0m \u001b[1;36m0\u001b[0m\u001b[1;33m]\u001b[0m\u001b[1;33m)\u001b[0m \u001b[1;33m/\u001b[0m \u001b[1;36m16\u001b[0m\u001b[1;33m\u001b[0m\u001b[1;33m\u001b[0m\u001b[0m\n\u001b[0;32m     78\u001b[0m \u001b[0md_max\u001b[0m \u001b[1;33m=\u001b[0m \u001b[0mnp\u001b[0m\u001b[1;33m.\u001b[0m\u001b[0mamax\u001b[0m\u001b[1;33m(\u001b[0m\u001b[0mim_gt\u001b[0m\u001b[1;33m[\u001b[0m\u001b[0mim_gt\u001b[0m \u001b[1;33m!=\u001b[0m \u001b[1;36m0\u001b[0m\u001b[1;33m]\u001b[0m\u001b[1;33m)\u001b[0m \u001b[1;33m/\u001b[0m \u001b[1;36m16\u001b[0m\u001b[1;33m\u001b[0m\u001b[1;33m\u001b[0m\u001b[0m\n",
      "\u001b[1;32m~\\Anaconda3\\lib\\site-packages\\matplotlib\\image.py\u001b[0m in \u001b[0;36mimread\u001b[1;34m(fname, format)\u001b[0m\n\u001b[0;32m   1408\u001b[0m                              \u001b[1;34m'with Pillow installed matplotlib can handle '\u001b[0m\u001b[1;33m\u001b[0m\u001b[1;33m\u001b[0m\u001b[0m\n\u001b[0;32m   1409\u001b[0m                              'more images' % list(handlers))\n\u001b[1;32m-> 1410\u001b[1;33m         \u001b[1;32mwith\u001b[0m \u001b[0mImage\u001b[0m\u001b[1;33m.\u001b[0m\u001b[0mopen\u001b[0m\u001b[1;33m(\u001b[0m\u001b[0mfname\u001b[0m\u001b[1;33m)\u001b[0m \u001b[1;32mas\u001b[0m \u001b[0mimage\u001b[0m\u001b[1;33m:\u001b[0m\u001b[1;33m\u001b[0m\u001b[1;33m\u001b[0m\u001b[0m\n\u001b[0m\u001b[0;32m   1411\u001b[0m             \u001b[1;32mreturn\u001b[0m \u001b[0mpil_to_array\u001b[0m\u001b[1;33m(\u001b[0m\u001b[0mimage\u001b[0m\u001b[1;33m)\u001b[0m\u001b[1;33m\u001b[0m\u001b[1;33m\u001b[0m\u001b[0m\n\u001b[0;32m   1412\u001b[0m \u001b[1;33m\u001b[0m\u001b[0m\n",
      "\u001b[1;32m~\\Anaconda3\\lib\\site-packages\\PIL\\Image.py\u001b[0m in \u001b[0;36mopen\u001b[1;34m(fp, mode)\u001b[0m\n\u001b[0;32m   2820\u001b[0m     \u001b[1;32mfor\u001b[0m \u001b[0mmessage\u001b[0m \u001b[1;32min\u001b[0m \u001b[0maccept_warnings\u001b[0m\u001b[1;33m:\u001b[0m\u001b[1;33m\u001b[0m\u001b[1;33m\u001b[0m\u001b[0m\n\u001b[0;32m   2821\u001b[0m         \u001b[0mwarnings\u001b[0m\u001b[1;33m.\u001b[0m\u001b[0mwarn\u001b[0m\u001b[1;33m(\u001b[0m\u001b[0mmessage\u001b[0m\u001b[1;33m)\u001b[0m\u001b[1;33m\u001b[0m\u001b[1;33m\u001b[0m\u001b[0m\n\u001b[1;32m-> 2822\u001b[1;33m     \u001b[1;32mraise\u001b[0m \u001b[0mIOError\u001b[0m\u001b[1;33m(\u001b[0m\u001b[1;34m\"cannot identify image file %r\"\u001b[0m \u001b[1;33m%\u001b[0m \u001b[1;33m(\u001b[0m\u001b[0mfilename\u001b[0m \u001b[1;32mif\u001b[0m \u001b[0mfilename\u001b[0m \u001b[1;32melse\u001b[0m \u001b[0mfp\u001b[0m\u001b[1;33m)\u001b[0m\u001b[1;33m)\u001b[0m\u001b[1;33m\u001b[0m\u001b[1;33m\u001b[0m\u001b[0m\n\u001b[0m\u001b[0;32m   2823\u001b[0m \u001b[1;33m\u001b[0m\u001b[0m\n\u001b[0;32m   2824\u001b[0m \u001b[1;33m\u001b[0m\u001b[0m\n",
      "\u001b[1;31mOSError\u001b[0m: cannot identify image file 'images/Bicycle1-imperfect/disp0.pfm'"
     ]
    }
   ],
   "source": [
    "%matplotlib inline\n",
    "import numpy as np\n",
    "import numpy.linalg as la\n",
    "import matplotlib.pyplot as plt\n",
    "import matplotlib.image as image\n",
    "from matplotlib.colors import LogNorm\n",
    "from skimage import img_as_ubyte\n",
    "from skimage.color import rgb2grey\n",
    "\n",
    "INFTY = np.inf\n",
    "def SD_array(imageL, imageR, d_minimum, d_maximum):\n",
    "    # initialization of the array of \"squared differences\" for different shifts\n",
    "    SD = np.zeros((1+d_maximum-d_minimum,np.shape(imageL)[0],np.shape(imageL)[1]))\n",
    "    imageL = imageL.astype(np.float)\n",
    "    imageR = imageR.astype(np.float)\n",
    "    for d in range(1 + d_maximum - d_minimum):\n",
    "        delta = d_minimum + d\n",
    "        dR = (imageL[:,:,0] - np.roll(imageR[:,:,0], delta, axis=1)).flatten()\n",
    "        dG = (imageL[:,:,1] - np.roll(imageR[:,:,1], delta, axis=1)).flatten()\n",
    "        dB = (imageL[:,:,2] - np.roll(imageR[:,:,2], delta, axis=1)).flatten()\n",
    "        D = np.vstack((dR, dG, dB))\n",
    "        SD[d] = (la.norm(D, axis=0) ** 2).reshape((np.shape(imageL)[0], np.shape(imageL)[1]))\n",
    "    return SD\n",
    "\n",
    "def integral_image(img):\n",
    "    int_img = np.zeros(np.shape(img))\n",
    "    for row in range(np.shape(img)[0]):\n",
    "        row_sum = 0.\n",
    "        for col in range(np.shape(img)[1]):\n",
    "            row_sum += img[row][col]\n",
    "            int_img[row][col] = row_sum\n",
    "            if row > 0:\n",
    "                int_img[row][col] += int_img[row-1][col]\n",
    "    return int_img\n",
    "\n",
    "def windSum(img, window_width):\n",
    "    if window_width == 1:\n",
    "        return img\n",
    "    # position of point relative to bottom/right\n",
    "    p = int(window_width//2)\n",
    "    # partial sums with zero-filled margins\n",
    "    BR = integral_image(img)\n",
    "    BL = np.roll(BR, window_width, axis=1)\n",
    "    BL[:,:window_width] = 0\n",
    "    TR = np.roll(BR, window_width, axis=0)\n",
    "    TR[:window_width,:] = 0\n",
    "    TL = np.roll(np.roll(BR, window_width, axis=0), window_width, axis=1)\n",
    "    TL[:,:window_width] = 0\n",
    "    TL[:window_width,:] = 0\n",
    "    # calculate window sum\n",
    "    window_sum = BR - BL - TR + TL\n",
    "    # fill bottom/right margins with INFTY\n",
    "    window_sum[:p,:] = INFTY\n",
    "    window_sum[:,:p] = INFTY\n",
    "    # rotate sum to top/left position\n",
    "    window_sum = np.roll(np.roll(window_sum, -p, axis=1), -p, axis=0)\n",
    "    # fill top/left margins with INFTY\n",
    "    q = p - 1 if (window_width % 2 == 0) else p\n",
    "    window_sum[:,:q] = INFTY\n",
    "    window_sum[:q,:] = INFTY\n",
    "    return window_sum\n",
    "\n",
    "def SSDtoDmap(SSD_array, d_minimum, d_maximum):\n",
    "    return d_minimum + np.argmin(SSD_array, axis=0)\n",
    "\n",
    "def Dmap_Windows(imageL, imageR, d_minimum, d_maximum, window_width):\n",
    "    SD = SD_array(imageL, imageR, d_minimum, d_maximum)\n",
    "    SSD = np.zeros(np.shape(SD))\n",
    "    for d in range(1 + d_maximum - d_minimum):\n",
    "        SSD[d] = windSum(SD[d], window_width)\n",
    "    dMap = SSDtoDmap(SSD, d_minimum, d_maximum)\n",
    "    return dMap\n",
    "\n",
    "im_left = image.imread(\"images/Bicycle1-imperfect/im0.png\")\n",
    "im_right = image.imread(\"images/Bicycle1-imperfect/im1.png\")\n",
    "# im_gt = image.imread(\"images/Bicycle1-imperfect/disp0.pfm\")\n",
    "d_min = np.amin(im_gt[im_gt != 0]) / 16\n",
    "d_max = np.amax(im_gt[im_gt != 0]) / 16\n",
    "dispMap_small = Dmap_Windows(im_left, im_right, d_min, d_max, 4)\n",
    "dispMap_large = Dmap_Windows(im_left, im_right, d_min, d_max, 15)\n",
    "fig = plt.figure(figsize = (16, 7))\n",
    "plt.subplot(131)\n",
    "plt.title(\"disparity map (small windows)\")\n",
    "plt.imshow(dispMap_small, vmin = 0, vmax = d_max)\n",
    "plt.subplot(132)\n",
    "plt.title(\"disparity map (large windows)\")\n",
    "plt.imshow(dispMap_large, vmin = 0, vmax = d_max)\n",
    "plt.subplot(133)\n",
    "plt.title(\"ground truth disparity map \")\n",
    "plt.imshow(im_gt/16, vmin = 0, vmax = d_max)\n",
    "plt.colorbar(cax=plt.axes([0.91, 0.3, 0.01, 0.4]))"
   ]
  },
  {
   "cell_type": "markdown",
   "metadata": {},
   "source": [
    "## Scan-line Stereo"
   ]
  },
  {
   "cell_type": "code",
   "execution_count": null,
   "metadata": {},
   "outputs": [],
   "source": []
  },
  {
   "cell_type": "markdown",
   "metadata": {},
   "source": [
    "## Full Grid Stereo"
   ]
  },
  {
   "cell_type": "code",
   "execution_count": null,
   "metadata": {},
   "outputs": [],
   "source": []
  },
  {
   "cell_type": "markdown",
   "metadata": {},
   "source": [
    "## Conclusion\n",
    "two-three paragraphs summarizing the conclusions of your project"
   ]
  }
 ],
 "metadata": {
  "kernelspec": {
   "display_name": "Python 3",
   "language": "python",
   "name": "python3"
  },
  "language_info": {
   "codemirror_mode": {
    "name": "ipython",
    "version": 3
   },
   "file_extension": ".py",
   "mimetype": "text/x-python",
   "name": "python",
   "nbconvert_exporter": "python",
   "pygments_lexer": "ipython3",
   "version": "3.7.3"
  }
 },
 "nbformat": 4,
 "nbformat_minor": 2
}
